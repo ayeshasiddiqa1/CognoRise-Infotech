{
  "nbformat": 4,
  "nbformat_minor": 0,
  "metadata": {
    "colab": {
      "provenance": []
    },
    "kernelspec": {
      "name": "python3",
      "display_name": "Python 3"
    },
    "language_info": {
      "name": "python"
    }
  },
  "cells": [
    {
      "cell_type": "code",
      "execution_count": null,
      "metadata": {
        "id": "OIN8CDxFNOJu"
      },
      "outputs": [],
      "source": [
        "import numpy as np\n",
        "import pandas as pd\n",
        "from sklearn import metrics\n",
        "import seaborn as sns\n",
        "import matplotlib.pyplot as plt\n",
        "%matplotlib inline"
      ]
    },
    {
      "cell_type": "code",
      "source": [
        "from tensorflow import keras\n",
        "from tensorflow.keras.datasets import mnist\n",
        "from tensorflow.keras import Sequential\n",
        "from tensorflow.keras.layers import Dense"
      ],
      "metadata": {
        "id": "wtoLCVGXNbB4"
      },
      "execution_count": null,
      "outputs": []
    },
    {
      "cell_type": "code",
      "source": [
        "(xtrain,ytrain),(xtest,ytest)=mnist.load_data()"
      ],
      "metadata": {
        "colab": {
          "base_uri": "https://localhost:8080/"
        },
        "id": "qBe7-blRNgDY",
        "outputId": "ca6ce1d1-18b5-436d-b5f0-1852f3c6c95c"
      },
      "execution_count": null,
      "outputs": [
        {
          "output_type": "stream",
          "name": "stdout",
          "text": [
            "Downloading data from https://storage.googleapis.com/tensorflow/tf-keras-datasets/mnist.npz\n",
            "11490434/11490434 [==============================] - 0s 0us/step\n"
          ]
        }
      ]
    },
    {
      "cell_type": "code",
      "source": [
        "xtrain.shape"
      ],
      "metadata": {
        "colab": {
          "base_uri": "https://localhost:8080/"
        },
        "id": "yufhVKXONjwC",
        "outputId": "f207604d-7ce0-41ad-c956-e5bc5023336f"
      },
      "execution_count": null,
      "outputs": [
        {
          "output_type": "execute_result",
          "data": {
            "text/plain": [
              "(60000, 28, 28)"
            ]
          },
          "metadata": {},
          "execution_count": 4
        }
      ]
    },
    {
      "cell_type": "code",
      "source": [
        "xtest.shape"
      ],
      "metadata": {
        "colab": {
          "base_uri": "https://localhost:8080/"
        },
        "id": "qCrlyaWoNlbR",
        "outputId": "02963f56-034b-48a8-9a5a-ccca902ecf41"
      },
      "execution_count": null,
      "outputs": [
        {
          "output_type": "execute_result",
          "data": {
            "text/plain": [
              "(10000, 28, 28)"
            ]
          },
          "metadata": {},
          "execution_count": 5
        }
      ]
    },
    {
      "cell_type": "code",
      "source": [
        "ytrain.shape"
      ],
      "metadata": {
        "colab": {
          "base_uri": "https://localhost:8080/"
        },
        "id": "KyaW-Uh4Nn5x",
        "outputId": "4bd78951-589c-4897-f224-d15872b308b8"
      },
      "execution_count": null,
      "outputs": [
        {
          "output_type": "execute_result",
          "data": {
            "text/plain": [
              "(60000,)"
            ]
          },
          "metadata": {},
          "execution_count": 6
        }
      ]
    },
    {
      "cell_type": "code",
      "source": [
        "\n",
        "ytest.shape"
      ],
      "metadata": {
        "colab": {
          "base_uri": "https://localhost:8080/"
        },
        "id": "VLv6-1XvNpxi",
        "outputId": "2c7fb4c5-7878-42e1-fe23-bc14e5dadfb9"
      },
      "execution_count": null,
      "outputs": [
        {
          "output_type": "execute_result",
          "data": {
            "text/plain": [
              "(10000,)"
            ]
          },
          "metadata": {},
          "execution_count": 7
        }
      ]
    },
    {
      "cell_type": "code",
      "source": [
        "plt.imshow(xtrain[2,:,:],cmap='gray')"
      ],
      "metadata": {
        "colab": {
          "base_uri": "https://localhost:8080/",
          "height": 447
        },
        "id": "JO76_f68NtbF",
        "outputId": "d2ade98e-b100-493b-c4b0-4b93882b8815"
      },
      "execution_count": null,
      "outputs": [
        {
          "output_type": "execute_result",
          "data": {
            "text/plain": [
              "<matplotlib.image.AxesImage at 0x7933e8b601c0>"
            ]
          },
          "metadata": {},
          "execution_count": 11
        },
        {
          "output_type": "display_data",
          "data": {
            "text/plain": [
              "<Figure size 640x480 with 1 Axes>"
            ],
            "image/png": "[encoded data removed]"
          },
          "metadata": {}
        }
      ]
    },
    {
      "cell_type": "code",
      "source": [
        "ytrain[2]"
      ],
      "metadata": {
        "colab": {
          "base_uri": "https://localhost:8080/"
        },
        "id": "r_UKztS4N5QL",
        "outputId": "bccc8204-fc7b-455b-9c7f-b083fa3a73e9"
      },
      "execution_count": null,
      "outputs": [
        {
          "output_type": "execute_result",
          "data": {
            "text/plain": [
              "4"
            ]
          },
          "metadata": {},
          "execution_count": 13
        }
      ]
    },
    {
      "cell_type": "code",
      "source": [
        "plt.imshow(xtest[0,:,:],cmap='gray')"
      ],
      "metadata": {
        "colab": {
          "base_uri": "https://localhost:8080/",
          "height": 447
        },
        "id": "E_g2hJxFOAyT",
        "outputId": "9a204c5a-0b5d-4a03-db53-f7ae6d5660ec"
      },
      "execution_count": null,
      "outputs": [
        {
          "output_type": "execute_result",
          "data": {
            "text/plain": [
              "<matplotlib.image.AxesImage at 0x7933cbd08520>"
            ]
          },
          "metadata": {},
          "execution_count": 34
        },
        {
          "output_type": "display_data",
          "data": {
            "text/plain": [
              "<Figure size 640x480 with 1 Axes>"
            ],
            "image/png": "[encoded data removed]"
          },
          "metadata": {}
        }
      ]
    },
    {
      "cell_type": "code",
      "source": [
        "ytest[0]"
      ],
      "metadata": {
        "colab": {
          "base_uri": "https://localhost:8080/"
        },
        "id": "3ovThP3zOGSV",
        "outputId": "b95c2981-a3c9-4af4-c5c9-9cb65809d2de"
      },
      "execution_count": null,
      "outputs": [
        {
          "output_type": "execute_result",
          "data": {
            "text/plain": [
              "7"
            ]
          },
          "metadata": {},
          "execution_count": 35
        }
      ]
    },
    {
      "cell_type": "code",
      "source": [
        "L=pd.DataFrame(ytrain)\n",
        "L[0].value_counts()"
      ],
      "metadata": {
        "colab": {
          "base_uri": "https://localhost:8080/"
        },
        "id": "1VQ4X88MOTim",
        "outputId": "eec172e3-0d95-41ec-ecf5-7018b0b5f19d"
      },
      "execution_count": null,
      "outputs": [
        {
          "output_type": "execute_result",
          "data": {
            "text/plain": [
              "0\n",
              "1    6742\n",
              "7    6265\n",
              "3    6131\n",
              "2    5958\n",
              "9    5949\n",
              "0    5923\n",
              "6    5918\n",
              "8    5851\n",
              "4    5842\n",
              "5    5421\n",
              "Name: count, dtype: int64"
            ]
          },
          "metadata": {},
          "execution_count": 19
        }
      ]
    },
    {
      "cell_type": "code",
      "source": [
        "x_train=xtrain.reshape(xtrain.shape[0],784).astype('float32')\n",
        "x_test=xtest.reshape(xtest.shape[0],784).astype('float32')\n",
        "x_test.shape"
      ],
      "metadata": {
        "colab": {
          "base_uri": "https://localhost:8080/"
        },
        "id": "bTz1IrT7OWiA",
        "outputId": "93a1fcd1-5c83-4993-92de-9b76b22cec0f"
      },
      "execution_count": null,
      "outputs": [
        {
          "output_type": "execute_result",
          "data": {
            "text/plain": [
              "(10000, 784)"
            ]
          },
          "metadata": {},
          "execution_count": 20
        }
      ]
    },
    {
      "cell_type": "code",
      "source": [
        "x_train/=255\n",
        "x_test/=255\n",
        "y_train = keras.utils.to_categorical(ytrain, 10)\n",
        "y_test = keras.utils.to_categorical(ytest, 10)"
      ],
      "metadata": {
        "id": "RyXAp05kOZeQ"
      },
      "execution_count": null,
      "outputs": []
    },
    {
      "cell_type": "code",
      "source": [
        "model = Sequential()"
      ],
      "metadata": {
        "id": "3oROb-BkOZa9"
      },
      "execution_count": null,
      "outputs": []
    },
    {
      "cell_type": "code",
      "source": [
        "model.add(Dense(784,activation='relu'))\n",
        "model.add(Dense(100, activation ='relu'))\n",
        "model.add(Dense(10,activation='softmax'))\n",
        "model.compile(loss='categorical_crossentropy',optimizer='adam',metrics=['accuracy'])\n",
        "history=model.fit(x_train, y_train, epochs=100, batch_size=256, verbose=1)"
      ],
      "metadata": {
        "colab": {
          "base_uri": "https://localhost:8080/"
        },
        "id": "3tk17IyYOlLP",
        "outputId": "14b83e1e-906c-49d7-b7f8-5e865e739da7"
      },
      "execution_count": null,
      "outputs": [
        {
          "output_type": "stream",
          "name": "stdout",
          "text": [
            "Epoch 1/100\n",
            "235/235 [==============================] - 7s 21ms/step - loss: 0.2742 - accuracy: 0.9219\n",
            "Epoch 2/100\n",
            "235/235 [==============================] - 6s 24ms/step - loss: 0.0945 - accuracy: 0.9717\n",
            "Epoch 3/100\n",
            "235/235 [==============================] - 6s 25ms/step - loss: 0.0610 - accuracy: 0.9816\n",
            "Epoch 4/100\n",
            "235/235 [==============================] - 5s 21ms/step - loss: 0.0412 - accuracy: 0.9874\n",
            "Epoch 5/100\n",
            "235/235 [==============================] - 6s 27ms/step - loss: 0.0276 - accuracy: 0.9917\n",
            "Epoch 6/100\n",
            "235/235 [==============================] - 5s 21ms/step - loss: 0.0196 - accuracy: 0.9939\n",
            "Epoch 7/100\n",
            "235/235 [==============================] - 6s 25ms/step - loss: 0.0152 - accuracy: 0.9955\n",
            "Epoch 8/100\n",
            "235/235 [==============================] - 6s 24ms/step - loss: 0.0119 - accuracy: 0.9963\n",
            "Epoch 9/100\n",
            "235/235 [==============================] - 5s 21ms/step - loss: 0.0095 - accuracy: 0.9972\n",
            "Epoch 10/100\n",
            "235/235 [==============================] - 6s 27ms/step - loss: 0.0067 - accuracy: 0.9979\n",
            "Epoch 11/100\n",
            "235/235 [==============================] - 5s 22ms/step - loss: 0.0092 - accuracy: 0.9973\n",
            "Epoch 12/100\n",
            "235/235 [==============================] - 7s 28ms/step - loss: 0.0107 - accuracy: 0.9967\n",
            "Epoch 13/100\n",
            "235/235 [==============================] - 5s 21ms/step - loss: 0.0089 - accuracy: 0.9971\n",
            "Epoch 14/100\n",
            "235/235 [==============================] - 5s 21ms/step - loss: 0.0086 - accuracy: 0.9973\n",
            "Epoch 15/100\n",
            "235/235 [==============================] - 7s 28ms/step - loss: 0.0070 - accuracy: 0.9977\n",
            "Epoch 16/100\n",
            "235/235 [==============================] - 5s 21ms/step - loss: 0.0086 - accuracy: 0.9970\n",
            "Epoch 17/100\n",
            "235/235 [==============================] - 8s 33ms/step - loss: 0.0056 - accuracy: 0.9982\n",
            "Epoch 18/100\n",
            "235/235 [==============================] - 6s 24ms/step - loss: 0.0042 - accuracy: 0.9987\n",
            "Epoch 19/100\n",
            "235/235 [==============================] - 5s 21ms/step - loss: 0.0044 - accuracy: 0.9988\n",
            "Epoch 20/100\n",
            "235/235 [==============================] - 6s 27ms/step - loss: 0.0062 - accuracy: 0.9981\n",
            "Epoch 21/100\n",
            "235/235 [==============================] - 5s 22ms/step - loss: 0.0025 - accuracy: 0.9993\n",
            "Epoch 22/100\n",
            "235/235 [==============================] - 7s 28ms/step - loss: 0.0073 - accuracy: 0.9976\n",
            "Epoch 23/100\n",
            "235/235 [==============================] - 5s 22ms/step - loss: 0.0091 - accuracy: 0.9967\n",
            "Epoch 24/100\n",
            "235/235 [==============================] - 5s 22ms/step - loss: 0.0045 - accuracy: 0.9986\n",
            "Epoch 25/100\n",
            "235/235 [==============================] - 6s 28ms/step - loss: 0.0043 - accuracy: 0.9987\n",
            "Epoch 26/100\n",
            "235/235 [==============================] - 5s 21ms/step - loss: 0.0053 - accuracy: 0.9983\n",
            "Epoch 27/100\n",
            "235/235 [==============================] - 6s 27ms/step - loss: 0.0042 - accuracy: 0.9988\n",
            "Epoch 28/100\n",
            "235/235 [==============================] - 8s 33ms/step - loss: 0.0019 - accuracy: 0.9994\n",
            "Epoch 29/100\n",
            "235/235 [==============================] - 8s 33ms/step - loss: 0.0031 - accuracy: 0.9990\n",
            "Epoch 30/100\n",
            "235/235 [==============================] - 7s 28ms/step - loss: 0.0044 - accuracy: 0.9986\n",
            "Epoch 31/100\n",
            "235/235 [==============================] - 7s 28ms/step - loss: 0.0056 - accuracy: 0.9981\n",
            "Epoch 32/100\n",
            "235/235 [==============================] - 5s 21ms/step - loss: 0.0030 - accuracy: 0.9990\n",
            "Epoch 33/100\n",
            "235/235 [==============================] - 6s 26ms/step - loss: 0.0036 - accuracy: 0.9990\n",
            "Epoch 34/100\n",
            "235/235 [==============================] - 5s 22ms/step - loss: 0.0015 - accuracy: 0.9995\n",
            "Epoch 35/100\n",
            "235/235 [==============================] - 5s 22ms/step - loss: 0.0031 - accuracy: 0.9990\n",
            "Epoch 36/100\n",
            "235/235 [==============================] - 7s 28ms/step - loss: 0.0067 - accuracy: 0.9977\n",
            "Epoch 37/100\n",
            "235/235 [==============================] - 5s 22ms/step - loss: 0.0055 - accuracy: 0.9981\n",
            "Epoch 38/100\n",
            "235/235 [==============================] - 7s 29ms/step - loss: 0.0024 - accuracy: 0.9994\n",
            "Epoch 39/100\n",
            "235/235 [==============================] - 5s 22ms/step - loss: 4.6419e-04 - accuracy: 0.9999\n",
            "Epoch 40/100\n",
            "235/235 [==============================] - 5s 21ms/step - loss: 2.2877e-04 - accuracy: 0.9999\n",
            "Epoch 41/100\n",
            "235/235 [==============================] - 7s 32ms/step - loss: 2.7531e-04 - accuracy: 1.0000\n",
            "Epoch 42/100\n",
            "235/235 [==============================] - 5s 22ms/step - loss: 2.5162e-05 - accuracy: 1.0000\n",
            "Epoch 43/100\n",
            "235/235 [==============================] - 6s 28ms/step - loss: 1.7239e-05 - accuracy: 1.0000\n",
            "Epoch 44/100\n",
            "235/235 [==============================] - 5s 22ms/step - loss: 1.4211e-05 - accuracy: 1.0000\n",
            "Epoch 45/100\n",
            "235/235 [==============================] - 6s 25ms/step - loss: 1.2117e-05 - accuracy: 1.0000\n",
            "Epoch 46/100\n",
            "235/235 [==============================] - 6s 25ms/step - loss: 1.0484e-05 - accuracy: 1.0000\n",
            "Epoch 47/100\n",
            "235/235 [==============================] - 5s 21ms/step - loss: 9.1955e-06 - accuracy: 1.0000\n",
            "Epoch 48/100\n",
            "235/235 [==============================] - 7s 28ms/step - loss: 8.0974e-06 - accuracy: 1.0000\n",
            "Epoch 49/100\n",
            "235/235 [==============================] - 5s 22ms/step - loss: 7.1703e-06 - accuracy: 1.0000\n",
            "Epoch 50/100\n",
            "235/235 [==============================] - 6s 26ms/step - loss: 6.3805e-06 - accuracy: 1.0000\n",
            "Epoch 51/100\n",
            "235/235 [==============================] - 5s 23ms/step - loss: 5.6723e-06 - accuracy: 1.0000\n",
            "Epoch 52/100\n",
            "235/235 [==============================] - 5s 21ms/step - loss: 5.0712e-06 - accuracy: 1.0000\n",
            "Epoch 53/100\n",
            "235/235 [==============================] - 6s 27ms/step - loss: 4.5349e-06 - accuracy: 1.0000\n",
            "Epoch 54/100\n",
            "235/235 [==============================] - 5s 21ms/step - loss: 4.0589e-06 - accuracy: 1.0000\n",
            "Epoch 55/100\n",
            "235/235 [==============================] - 7s 29ms/step - loss: 3.6383e-06 - accuracy: 1.0000\n",
            "Epoch 56/100\n",
            "235/235 [==============================] - 6s 26ms/step - loss: 3.2617e-06 - accuracy: 1.0000\n",
            "Epoch 57/100\n",
            "235/235 [==============================] - 5s 23ms/step - loss: 2.9244e-06 - accuracy: 1.0000\n",
            "Epoch 58/100\n",
            "235/235 [==============================] - 6s 25ms/step - loss: 2.6292e-06 - accuracy: 1.0000\n",
            "Epoch 59/100\n",
            "235/235 [==============================] - 5s 21ms/step - loss: 2.3601e-06 - accuracy: 1.0000\n",
            "Epoch 60/100\n",
            "235/235 [==============================] - 7s 28ms/step - loss: 2.1137e-06 - accuracy: 1.0000\n",
            "Epoch 61/100\n",
            "235/235 [==============================] - 5s 21ms/step - loss: 1.8996e-06 - accuracy: 1.0000\n",
            "Epoch 62/100\n",
            "235/235 [==============================] - 6s 25ms/step - loss: 1.7025e-06 - accuracy: 1.0000\n",
            "Epoch 63/100\n",
            "235/235 [==============================] - 6s 24ms/step - loss: 1.5242e-06 - accuracy: 1.0000\n",
            "Epoch 64/100\n",
            "235/235 [==============================] - 5s 21ms/step - loss: 1.3681e-06 - accuracy: 1.0000\n",
            "Epoch 65/100\n",
            "235/235 [==============================] - 6s 27ms/step - loss: 1.2211e-06 - accuracy: 1.0000\n",
            "Epoch 66/100\n",
            "235/235 [==============================] - 5s 21ms/step - loss: 1.0903e-06 - accuracy: 1.0000\n",
            "Epoch 67/100\n",
            "235/235 [==============================] - 6s 26ms/step - loss: 9.7097e-07 - accuracy: 1.0000\n",
            "Epoch 68/100\n",
            "235/235 [==============================] - 5s 22ms/step - loss: 8.6658e-07 - accuracy: 1.0000\n",
            "Epoch 69/100\n",
            "235/235 [==============================] - 5s 22ms/step - loss: 7.6998e-07 - accuracy: 1.0000\n",
            "Epoch 70/100\n",
            "235/235 [==============================] - 7s 28ms/step - loss: 6.8671e-07 - accuracy: 1.0000\n",
            "Epoch 71/100\n",
            "235/235 [==============================] - 5s 21ms/step - loss: 6.1187e-07 - accuracy: 1.0000\n",
            "Epoch 72/100\n",
            "235/235 [==============================] - 6s 27ms/step - loss: 5.4155e-07 - accuracy: 1.0000\n",
            "Epoch 73/100\n",
            "235/235 [==============================] - 5s 21ms/step - loss: 4.8288e-07 - accuracy: 1.0000\n",
            "Epoch 74/100\n",
            "235/235 [==============================] - 5s 23ms/step - loss: 4.2988e-07 - accuracy: 1.0000\n",
            "Epoch 75/100\n",
            "235/235 [==============================] - 6s 26ms/step - loss: 3.8233e-07 - accuracy: 1.0000\n",
            "Epoch 76/100\n",
            "235/235 [==============================] - 5s 21ms/step - loss: 3.4308e-07 - accuracy: 1.0000\n",
            "Epoch 77/100\n",
            "235/235 [==============================] - 7s 28ms/step - loss: 3.0570e-07 - accuracy: 1.0000\n",
            "Epoch 78/100\n",
            "235/235 [==============================] - 5s 21ms/step - loss: 2.7571e-07 - accuracy: 1.0000\n",
            "Epoch 79/100\n",
            "235/235 [==============================] - 6s 24ms/step - loss: 2.4561e-07 - accuracy: 1.0000\n",
            "Epoch 80/100\n",
            "235/235 [==============================] - 6s 24ms/step - loss: 2.2112e-07 - accuracy: 1.0000\n",
            "Epoch 81/100\n",
            "235/235 [==============================] - 5s 22ms/step - loss: 1.9861e-07 - accuracy: 1.0000\n",
            "Epoch 82/100\n",
            "235/235 [==============================] - 7s 28ms/step - loss: 1.7804e-07 - accuracy: 1.0000\n",
            "Epoch 83/100\n",
            "235/235 [==============================] - 5s 21ms/step - loss: 1.6268e-07 - accuracy: 1.0000\n",
            "Epoch 84/100\n",
            "235/235 [==============================] - 6s 26ms/step - loss: 1.4635e-07 - accuracy: 1.0000\n",
            "Epoch 85/100\n",
            "235/235 [==============================] - 5s 23ms/step - loss: 1.3225e-07 - accuracy: 1.0000\n",
            "Epoch 86/100\n",
            "235/235 [==============================] - 5s 21ms/step - loss: 1.1867e-07 - accuracy: 1.0000\n",
            "Epoch 87/100\n",
            "235/235 [==============================] - 7s 28ms/step - loss: 1.0795e-07 - accuracy: 1.0000\n",
            "Epoch 88/100\n",
            "235/235 [==============================] - 5s 22ms/step - loss: 9.6983e-08 - accuracy: 1.0000\n",
            "Epoch 89/100\n",
            "235/235 [==============================] - 6s 27ms/step - loss: 8.9039e-08 - accuracy: 1.0000\n",
            "Epoch 90/100\n",
            "235/235 [==============================] - 5s 22ms/step - loss: 7.9874e-08 - accuracy: 1.0000\n",
            "Epoch 91/100\n",
            "235/235 [==============================] - 5s 22ms/step - loss: 7.2741e-08 - accuracy: 1.0000\n",
            "Epoch 92/100\n",
            "235/235 [==============================] - 6s 27ms/step - loss: 6.5756e-08 - accuracy: 1.0000\n",
            "Epoch 93/100\n",
            "235/235 [==============================] - 5s 22ms/step - loss: 5.9901e-08 - accuracy: 1.0000\n",
            "Epoch 94/100\n",
            "235/235 [==============================] - 7s 28ms/step - loss: 5.3859e-08 - accuracy: 1.0000\n",
            "Epoch 95/100\n",
            "235/235 [==============================] - 6s 25ms/step - loss: 4.8967e-08 - accuracy: 1.0000\n",
            "Epoch 96/100\n",
            "235/235 [==============================] - 7s 31ms/step - loss: 4.4640e-08 - accuracy: 1.0000\n",
            "Epoch 97/100\n",
            "235/235 [==============================] - 5s 22ms/step - loss: 4.0579e-08 - accuracy: 1.0000\n",
            "Epoch 98/100\n",
            "235/235 [==============================] - 5s 23ms/step - loss: 3.6925e-08 - accuracy: 1.0000\n",
            "Epoch 99/100\n",
            "235/235 [==============================] - 6s 25ms/step - loss: 3.3611e-08 - accuracy: 1.0000\n",
            "Epoch 100/100\n",
            "235/235 [==============================] - 5s 22ms/step - loss: 3.0549e-08 - accuracy: 1.0000\n"
          ]
        }
      ]
    },
    {
      "cell_type": "code",
      "source": [
        "loss, acc = model.evaluate(x_test, y_test, verbose=0)\n",
        "print('Accuracy: %.3f'  % acc)\n",
        "print('Loss: %.3f' % loss)"
      ],
      "metadata": {
        "colab": {
          "base_uri": "https://localhost:8080/"
        },
        "id": "wv1sSH13PMEE",
        "outputId": "cbb607ce-9c88-42ae-f85e-504dc9df43c6"
      },
      "execution_count": null,
      "outputs": [
        {
          "output_type": "stream",
          "name": "stdout",
          "text": [
            "Accuracy: 0.985\n",
            "Loss: 0.129\n"
          ]
        }
      ]
    },
    {
      "cell_type": "code",
      "source": [
        "from numpy import where\n",
        "from matplotlib import pyplot\n",
        "# plot loss during training\n",
        "pyplot.subplot(211)\n",
        "pyplot.title('Loss')\n",
        "pyplot.plot(history.history['loss'], label='train')\n",
        "pyplot.legend()"
      ],
      "metadata": {
        "colab": {
          "base_uri": "https://localhost:8080/",
          "height": 268
        },
        "id": "cWIr-7qcQ8wd",
        "outputId": "d53a6567-9143-4ebf-c173-15e1eb16fa88"
      },
      "execution_count": null,
      "outputs": [
        {
          "output_type": "execute_result",
          "data": {
            "text/plain": [
              "<matplotlib.legend.Legend at 0x7933d827e6e0>"
            ]
          },
          "metadata": {},
          "execution_count": 29
        },
        {
          "output_type": "display_data",
          "data": {
            "text/plain": [
              "<Figure size 640x480 with 1 Axes>"
            ],
            "image/png": "[encoded data removed]"
          },
          "metadata": {}
        }
      ]
    },
    {
      "cell_type": "code",
      "source": [
        "%matplotlib inline\n",
        "from matplotlib import pyplot\n",
        "from numpy import where\n",
        "\n",
        "# plot loss during training\n",
        "pyplot.subplot(211)\n",
        "pyplot.title('Accuracy')\n",
        "pyplot.plot(history.history['accuracy'], label='train')\n",
        "pyplot.legend()"
      ],
      "metadata": {
        "colab": {
          "base_uri": "https://localhost:8080/",
          "height": 268
        },
        "id": "FPw9tDZcQ9LY",
        "outputId": "6cbecf52-e337-41fb-b5d6-4b6bc91aa3e1"
      },
      "execution_count": null,
      "outputs": [
        {
          "output_type": "execute_result",
          "data": {
            "text/plain": [
              "<matplotlib.legend.Legend at 0x79348491f970>"
            ]
          },
          "metadata": {},
          "execution_count": 30
        },
        {
          "output_type": "display_data",
          "data": {
            "text/plain": [
              "<Figure size 640x480 with 1 Axes>"
            ],
            "image/png": "[encoded data removed]"
          },
          "metadata": {}
        }
      ]
    },
    {
      "cell_type": "code",
      "source": [
        "y_predict = model.predict(x_test)\n",
        "y_predict[0]"
      ],
      "metadata": {
        "colab": {
          "base_uri": "https://localhost:8080/"
        },
        "id": "KjinMLowQ-Iz",
        "outputId": "fcdb3875-2cb0-4be4-b353-52d8a52b02f9"
      },
      "execution_count": null,
      "outputs": [
        {
          "output_type": "stream",
          "name": "stdout",
          "text": [
            "313/313 [==============================] - 2s 6ms/step\n"
          ]
        },
        {
          "output_type": "execute_result",
          "data": {
            "text/plain": [
              "array([1.5512001e-24, 4.2442169e-21, 1.6551673e-23, 5.6519418e-21,\n",
              "       4.8851391e-28, 1.3187734e-24, 2.9985676e-34, 9.9999994e-01,\n",
              "       1.8196131e-25, 3.9936051e-20], dtype=float32)"
            ]
          },
          "metadata": {},
          "execution_count": 31
        }
      ]
    },
    {
      "cell_type": "code",
      "source": [
        "np.argmax(y_predict[0])"
      ],
      "metadata": {
        "colab": {
          "base_uri": "https://localhost:8080/"
        },
        "id": "SAEQPdqpRP3i",
        "outputId": "8f9c084f-345f-4157-e28e-013fc65cb24d"
      },
      "execution_count": null,
      "outputs": [
        {
          "output_type": "execute_result",
          "data": {
            "text/plain": [
              "7"
            ]
          },
          "metadata": {},
          "execution_count": 36
        }
      ]
    },
    {
      "cell_type": "code",
      "source": [
        "y_pred = []\n",
        "for val in y_predict:\n",
        "    y_pred.append(np.argmax(val))\n",
        "#print(y_pred)\n",
        "#convert 0 1 to 1 and 1 0 as 0\n",
        "cm = metrics.confusion_matrix(ytest,y_pred)\n",
        "print(cm)"
      ],
      "metadata": {
        "colab": {
          "base_uri": "https://localhost:8080/"
        },
        "id": "Pe2W9JBARQM6",
        "outputId": "8c779361-e4f1-4aed-b11d-b45139c2462b"
      },
      "execution_count": null,
      "outputs": [
        {
          "output_type": "stream",
          "name": "stdout",
          "text": [
            "[[ 972    1    0    2    1    1    1    1    1    0]\n",
            " [   0 1127    2    1    0    1    2    0    2    0]\n",
            " [   4    1 1013    1    1    0    2    5    4    1]\n",
            " [   0    0    1  999    0    4    0    2    2    2]\n",
            " [   1    1    3    0  964    0    5    0    2    6]\n",
            " [   2    0    0    7    1  874    3    2    2    1]\n",
            " [   2    2    0    1    4    4  944    0    1    0]\n",
            " [   1    1    9    0    0    0    0 1009    2    6]\n",
            " [   2    0    2    3    1    0    0    3  961    2]\n",
            " [   3    2    0    2    5    2    1    4    1  989]]\n"
          ]
        }
      ]
    },
    {
      "cell_type": "code",
      "source": [
        "cr=metrics.classification_report(ytest,y_pred)\n",
        "print(cr)"
      ],
      "metadata": {
        "colab": {
          "base_uri": "https://localhost:8080/"
        },
        "id": "rmnkQxTkRzpl",
        "outputId": "abb7032d-1ee1-40f3-f9f5-7712495bc47d"
      },
      "execution_count": null,
      "outputs": [
        {
          "output_type": "stream",
          "name": "stdout",
          "text": [
            "              precision    recall  f1-score   support\n",
            "\n",
            "           0       0.98      0.99      0.99       980\n",
            "           1       0.99      0.99      0.99      1135\n",
            "           2       0.98      0.98      0.98      1032\n",
            "           3       0.98      0.99      0.99      1010\n",
            "           4       0.99      0.98      0.98       982\n",
            "           5       0.99      0.98      0.98       892\n",
            "           6       0.99      0.99      0.99       958\n",
            "           7       0.98      0.98      0.98      1028\n",
            "           8       0.98      0.99      0.98       974\n",
            "           9       0.98      0.98      0.98      1009\n",
            "\n",
            "    accuracy                           0.99     10000\n",
            "   macro avg       0.99      0.99      0.99     10000\n",
            "weighted avg       0.99      0.99      0.99     10000\n",
            "\n"
          ]
        }
      ]
    }
  ]
}